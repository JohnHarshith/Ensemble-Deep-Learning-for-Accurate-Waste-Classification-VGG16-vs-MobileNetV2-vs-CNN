{
  "cells": [
    {
      "cell_type": "code",
      "execution_count": null,
      "id": "fossil-multiple",
      "metadata": {
        "execution": {
          "iopub.execute_input": "2021-05-21T15:24:29.879775Z",
          "iopub.status.busy": "2021-05-21T15:24:29.878492Z",
          "iopub.status.idle": "2021-05-21T15:24:37.500024Z",
          "shell.execute_reply": "2021-05-21T15:24:37.499300Z",
          "shell.execute_reply.started": "2021-05-21T15:14:29.756958Z"
        },
        "papermill": {
          "duration": 7.647909,
          "end_time": "2021-05-21T15:24:37.500217",
          "exception": false,
          "start_time": "2021-05-21T15:24:29.852308",
          "status": "completed"
        },
        "tags": [],
        "id": "fossil-multiple"
      },
      "outputs": [],
      "source": [
        "import numpy as np\n",
        "import pandas as pd\n",
        "import os\n",
        "import matplotlib.pyplot as plt\n",
        "import random\n",
        "\n",
        "import tensorflow as tf\n",
        "from tensorflow.keras.utils import to_categorical\n",
        "from tensorflow.keras.preprocessing.image import load_img, img_to_array\n",
        "from tensorflow.python.keras.preprocessing.image import ImageDataGenerator\n",
        "\n",
        "from sklearn.metrics import classification_report, log_loss, accuracy_score\n",
        "from sklearn.model_selection import train_test_split"
      ]
    },
    {
      "cell_type": "code",
      "execution_count": null,
      "id": "prostate-stupid",
      "metadata": {
        "execution": {
          "iopub.execute_input": "2021-05-21T15:24:37.549880Z",
          "iopub.status.busy": "2021-05-21T15:24:37.549161Z",
          "iopub.status.idle": "2021-05-21T15:24:37.552245Z",
          "shell.execute_reply": "2021-05-21T15:24:37.551654Z",
          "shell.execute_reply.started": "2021-05-21T15:14:29.768538Z"
        },
        "papermill": {
          "duration": 0.029589,
          "end_time": "2021-05-21T15:24:37.552405",
          "exception": false,
          "start_time": "2021-05-21T15:24:37.522816",
          "status": "completed"
        },
        "tags": [],
        "id": "prostate-stupid"
      },
      "outputs": [],
      "source": [
        "data_dir = '../input/garbage-classification/Garbage classification/Garbage classification/'"
      ]
    },
    {
      "cell_type": "code",
      "execution_count": null,
      "id": "hazardous-voluntary",
      "metadata": {
        "execution": {
          "iopub.execute_input": "2021-05-21T15:24:37.601963Z",
          "iopub.status.busy": "2021-05-21T15:24:37.601186Z",
          "iopub.status.idle": "2021-05-21T15:24:37.617666Z",
          "shell.execute_reply": "2021-05-21T15:24:37.616870Z",
          "shell.execute_reply.started": "2021-05-21T15:14:29.787052Z"
        },
        "papermill": {
          "duration": 0.043902,
          "end_time": "2021-05-21T15:24:37.617903",
          "exception": false,
          "start_time": "2021-05-21T15:24:37.574001",
          "status": "completed"
        },
        "tags": [],
        "id": "hazardous-voluntary",
        "outputId": "3e641f77-6413-4505-95c0-7931a33fe04a"
      },
      "outputs": [
        {
          "name": "stdout",
          "output_type": "stream",
          "text": [
            "['metal', 'glass', 'paper', 'trash', 'cardboard', 'plastic']\n",
            "6\n"
          ]
        }
      ],
      "source": [
        "Name=[]\n",
        "for file in os.listdir(data_dir):\n",
        "    Name+=[file]\n",
        "\n",
        "print(Name)\n",
        "print(len(Name))"
      ]
    },
    {
      "cell_type": "code",
      "execution_count": null,
      "id": "nonprofit-target",
      "metadata": {
        "execution": {
          "iopub.execute_input": "2021-05-21T15:24:37.672070Z",
          "iopub.status.busy": "2021-05-21T15:24:37.670797Z",
          "iopub.status.idle": "2021-05-21T15:24:37.675267Z",
          "shell.execute_reply": "2021-05-21T15:24:37.674552Z",
          "shell.execute_reply.started": "2021-05-21T15:14:29.811691Z"
        },
        "papermill": {
          "duration": 0.034784,
          "end_time": "2021-05-21T15:24:37.675429",
          "exception": false,
          "start_time": "2021-05-21T15:24:37.640645",
          "status": "completed"
        },
        "tags": [],
        "id": "nonprofit-target"
      },
      "outputs": [],
      "source": [
        "N=[]\n",
        "for i in range(len(Name)):\n",
        "    N+=[i]\n",
        "\n",
        "normal_mapping=dict(zip(Name,N))\n",
        "reverse_mapping=dict(zip(N,Name))\n",
        "\n",
        "def mapper(value):\n",
        "    return reverse_mapping[value]"
      ]
    },
    {
      "cell_type": "code",
      "execution_count": null,
      "id": "violent-pursuit",
      "metadata": {
        "_cell_guid": "79c7e3d0-c299-4dcb-8224-4455121ee9b0",
        "_uuid": "d629ff2d2480ee46fbb7e2d37f6b5fab8052498a",
        "execution": {
          "iopub.execute_input": "2021-05-21T15:24:37.727903Z",
          "iopub.status.busy": "2021-05-21T15:24:37.727138Z",
          "iopub.status.idle": "2021-05-21T15:25:05.268832Z",
          "shell.execute_reply": "2021-05-21T15:25:05.267630Z",
          "shell.execute_reply.started": "2021-05-21T15:14:29.820103Z"
        },
        "papermill": {
          "duration": 27.570617,
          "end_time": "2021-05-21T15:25:05.269161",
          "exception": false,
          "start_time": "2021-05-21T15:24:37.698544",
          "status": "completed"
        },
        "tags": [],
        "id": "violent-pursuit"
      },
      "outputs": [],
      "source": [
        "dataset=[]\n",
        "count=0\n",
        "for file in os.listdir(data_dir):\n",
        "    path=os.path.join(data_dir,file)\n",
        "    for im in os.listdir(path):\n",
        "        image=load_img(os.path.join(path,im), grayscale=False, color_mode='rgb', target_size=(60,60))\n",
        "        image=img_to_array(image)\n",
        "        image=image/255.0\n",
        "        dataset+=[[image,count]]\n",
        "    count=count+1"
      ]
    },
    {
      "cell_type": "code",
      "execution_count": null,
      "id": "physical-blend",
      "metadata": {
        "execution": {
          "iopub.execute_input": "2021-05-21T15:25:05.343739Z",
          "iopub.status.busy": "2021-05-21T15:25:05.342802Z",
          "iopub.status.idle": "2021-05-21T15:25:05.349006Z",
          "shell.execute_reply": "2021-05-21T15:25:05.347967Z",
          "shell.execute_reply.started": "2021-05-21T15:14:38.777187Z"
        },
        "papermill": {
          "duration": 0.045811,
          "end_time": "2021-05-21T15:25:05.349238",
          "exception": false,
          "start_time": "2021-05-21T15:25:05.303427",
          "status": "completed"
        },
        "tags": [],
        "id": "physical-blend",
        "outputId": "7dcc05a8-192b-4ceb-b5c8-92da13d57d13"
      },
      "outputs": [
        {
          "name": "stdout",
          "output_type": "stream",
          "text": [
            "2527\n"
          ]
        }
      ],
      "source": [
        "n=len(dataset)\n",
        "print(n)"
      ]
    },
    {
      "cell_type": "code",
      "execution_count": null,
      "id": "chemical-indication",
      "metadata": {
        "execution": {
          "iopub.execute_input": "2021-05-21T15:25:05.411183Z",
          "iopub.status.busy": "2021-05-21T15:25:05.410378Z",
          "iopub.status.idle": "2021-05-21T15:25:05.413170Z",
          "shell.execute_reply": "2021-05-21T15:25:05.413809Z",
          "shell.execute_reply.started": "2021-05-21T15:14:38.786975Z"
        },
        "papermill": {
          "duration": 0.034872,
          "end_time": "2021-05-21T15:25:05.414017",
          "exception": false,
          "start_time": "2021-05-21T15:25:05.379145",
          "status": "completed"
        },
        "tags": [],
        "id": "chemical-indication",
        "outputId": "a80ebb1c-bd57-4b54-f2c2-f41133f64e49"
      },
      "outputs": [
        {
          "name": "stdout",
          "output_type": "stream",
          "text": [
            "[1681, 1145, 2136, 677, 414]\n"
          ]
        }
      ],
      "source": [
        "num=[]\n",
        "for i in range(n):\n",
        "    num+=[i]\n",
        "random.shuffle(num)\n",
        "print(num[0:5])"
      ]
    },
    {
      "cell_type": "code",
      "execution_count": null,
      "id": "unauthorized-salem",
      "metadata": {
        "execution": {
          "iopub.execute_input": "2021-05-21T15:25:05.462508Z",
          "iopub.status.busy": "2021-05-21T15:25:05.461746Z",
          "iopub.status.idle": "2021-05-21T15:25:05.564632Z",
          "shell.execute_reply": "2021-05-21T15:25:05.565196Z",
          "shell.execute_reply.started": "2021-05-21T15:14:38.807012Z"
        },
        "papermill": {
          "duration": 0.128876,
          "end_time": "2021-05-21T15:25:05.565383",
          "exception": false,
          "start_time": "2021-05-21T15:25:05.436507",
          "status": "completed"
        },
        "tags": [],
        "id": "unauthorized-salem"
      },
      "outputs": [],
      "source": [
        "data,labels=zip(*dataset)\n",
        "data=np.array(data)\n",
        "labels=np.array(labels)\n",
        "\n",
        "train=data[num[0:(n//10)*8]]\n",
        "trainlabel=labels[num[0:(n//10)*8]]\n",
        "\n",
        "test=data[num[(n//10)*8:]]\n",
        "testlabel=labels[num[(n//10)*8:]]"
      ]
    },
    {
      "cell_type": "code",
      "execution_count": null,
      "id": "irish-paste",
      "metadata": {
        "execution": {
          "iopub.execute_input": "2021-05-21T15:25:05.614848Z",
          "iopub.status.busy": "2021-05-21T15:25:05.614114Z",
          "iopub.status.idle": "2021-05-21T15:25:05.621912Z",
          "shell.execute_reply": "2021-05-21T15:25:05.621344Z",
          "shell.execute_reply.started": "2021-05-21T15:14:38.922422Z"
        },
        "papermill": {
          "duration": 0.034057,
          "end_time": "2021-05-21T15:25:05.622075",
          "exception": false,
          "start_time": "2021-05-21T15:25:05.588018",
          "status": "completed"
        },
        "tags": [],
        "id": "irish-paste"
      },
      "outputs": [],
      "source": [
        "trainlabel2=to_categorical(trainlabel)"
      ]
    },
    {
      "cell_type": "code",
      "execution_count": null,
      "id": "planned-weapon",
      "metadata": {
        "execution": {
          "iopub.execute_input": "2021-05-21T15:25:05.673380Z",
          "iopub.status.busy": "2021-05-21T15:25:05.672731Z",
          "iopub.status.idle": "2021-05-21T15:25:05.713132Z",
          "shell.execute_reply": "2021-05-21T15:25:05.712500Z",
          "shell.execute_reply.started": "2021-05-21T15:14:38.928539Z"
        },
        "papermill": {
          "duration": 0.069249,
          "end_time": "2021-05-21T15:25:05.713285",
          "exception": false,
          "start_time": "2021-05-21T15:25:05.644036",
          "status": "completed"
        },
        "tags": [],
        "id": "planned-weapon"
      },
      "outputs": [],
      "source": [
        "trainx,testx,trainy,testy=train_test_split(train,trainlabel2,test_size=0.2,random_state=44)"
      ]
    },
    {
      "cell_type": "code",
      "execution_count": null,
      "id": "balanced-tournament",
      "metadata": {
        "execution": {
          "iopub.execute_input": "2021-05-21T15:25:05.765285Z",
          "iopub.status.busy": "2021-05-21T15:25:05.764236Z",
          "iopub.status.idle": "2021-05-21T15:25:05.769449Z",
          "shell.execute_reply": "2021-05-21T15:25:05.770003Z",
          "shell.execute_reply.started": "2021-05-21T15:14:38.986991Z"
        },
        "papermill": {
          "duration": 0.033997,
          "end_time": "2021-05-21T15:25:05.770204",
          "exception": false,
          "start_time": "2021-05-21T15:25:05.736207",
          "status": "completed"
        },
        "tags": [],
        "id": "balanced-tournament",
        "outputId": "8fab4a44-fa77-4c0b-f23e-b3b6075172c5"
      },
      "outputs": [
        {
          "name": "stdout",
          "output_type": "stream",
          "text": [
            "(1612, 60, 60, 3)\n",
            "(404, 60, 60, 3)\n",
            "(1612, 6)\n",
            "(404, 6)\n"
          ]
        }
      ],
      "source": [
        "print(trainx.shape)\n",
        "print(testx.shape)\n",
        "print(trainy.shape)\n",
        "print(testy.shape)"
      ]
    },
    {
      "cell_type": "code",
      "execution_count": null,
      "id": "muslim-agreement",
      "metadata": {
        "execution": {
          "iopub.execute_input": "2021-05-21T15:25:05.819969Z",
          "iopub.status.busy": "2021-05-21T15:25:05.818987Z",
          "iopub.status.idle": "2021-05-21T15:25:05.823872Z",
          "shell.execute_reply": "2021-05-21T15:25:05.824363Z",
          "shell.execute_reply.started": "2021-05-21T15:14:38.995250Z"
        },
        "papermill": {
          "duration": 0.031436,
          "end_time": "2021-05-21T15:25:05.824550",
          "exception": false,
          "start_time": "2021-05-21T15:25:05.793114",
          "status": "completed"
        },
        "tags": [],
        "id": "muslim-agreement"
      },
      "outputs": [],
      "source": [
        "datagen = ImageDataGenerator(horizontal_flip=True,vertical_flip=True,rotation_range=20,zoom_range=0.2,\n",
        "                        width_shift_range=0.2,height_shift_range=0.2,shear_range=0.1,fill_mode=\"nearest\")"
      ]
    },
    {
      "cell_type": "code",
      "execution_count": null,
      "id": "legal-profession",
      "metadata": {
        "execution": {
          "iopub.execute_input": "2021-05-21T15:25:05.876718Z",
          "iopub.status.busy": "2021-05-21T15:25:05.875645Z",
          "iopub.status.idle": "2021-05-21T15:25:15.569714Z",
          "shell.execute_reply": "2021-05-21T15:25:15.570310Z",
          "shell.execute_reply.started": "2021-05-21T15:14:39.020233Z"
        },
        "papermill": {
          "duration": 9.722996,
          "end_time": "2021-05-21T15:25:15.570530",
          "exception": false,
          "start_time": "2021-05-21T15:25:05.847534",
          "status": "completed"
        },
        "tags": [],
        "id": "legal-profession",
        "outputId": "e81e521e-dcbf-4f54-a40d-d6e5f271cee0"
      },
      "outputs": [
        {
          "name": "stdout",
          "output_type": "stream",
          "text": [
            "Downloading data from https://storage.googleapis.com/tensorflow/keras-applications/densenet/densenet201_weights_tf_dim_ordering_tf_kernels_notop.h5\n",
            "74842112/74836368 [==============================] - 3s 0us/step\n"
          ]
        }
      ],
      "source": [
        "pretrained_model3 = tf.keras.applications.DenseNet201(input_shape=(60,60,3),include_top=False,weights='imagenet',pooling='avg')\n",
        "pretrained_model3.trainable = False"
      ]
    },
    {
      "cell_type": "code",
      "execution_count": null,
      "id": "sweet-linux",
      "metadata": {
        "execution": {
          "iopub.execute_input": "2021-05-21T15:25:15.637038Z",
          "iopub.status.busy": "2021-05-21T15:25:15.635985Z",
          "iopub.status.idle": "2021-05-21T15:25:15.706855Z",
          "shell.execute_reply": "2021-05-21T15:25:15.706259Z",
          "shell.execute_reply.started": "2021-05-21T15:14:44.771666Z"
        },
        "papermill": {
          "duration": 0.108919,
          "end_time": "2021-05-21T15:25:15.707006",
          "exception": false,
          "start_time": "2021-05-21T15:25:15.598087",
          "status": "completed"
        },
        "tags": [],
        "id": "sweet-linux"
      },
      "outputs": [],
      "source": [
        "inputs3 = pretrained_model3.input\n",
        "x3 = tf.keras.layers.Dense(128, activation='relu')(pretrained_model3.output)\n",
        "outputs3 = tf.keras.layers.Dense(6, activation='softmax')(x3)\n",
        "model = tf.keras.Model(inputs=inputs3, outputs=outputs3)"
      ]
    },
    {
      "cell_type": "code",
      "execution_count": null,
      "id": "numerous-heater",
      "metadata": {
        "execution": {
          "iopub.execute_input": "2021-05-21T15:25:15.783803Z",
          "iopub.status.busy": "2021-05-21T15:25:15.774570Z",
          "iopub.status.idle": "2021-05-21T15:25:15.796446Z",
          "shell.execute_reply": "2021-05-21T15:25:15.795889Z",
          "shell.execute_reply.started": "2021-05-21T15:14:44.848267Z"
        },
        "papermill": {
          "duration": 0.062633,
          "end_time": "2021-05-21T15:25:15.796628",
          "exception": false,
          "start_time": "2021-05-21T15:25:15.733995",
          "status": "completed"
        },
        "tags": [],
        "id": "numerous-heater"
      },
      "outputs": [],
      "source": [
        "model.compile(optimizer='adam',loss='categorical_crossentropy',metrics=['accuracy'])"
      ]
    },
    {
      "cell_type": "code",
      "execution_count": null,
      "id": "welsh-brake",
      "metadata": {
        "execution": {
          "iopub.execute_input": "2021-05-21T15:25:15.863799Z",
          "iopub.status.busy": "2021-05-21T15:25:15.863110Z",
          "iopub.status.idle": "2021-05-21T15:34:10.185862Z",
          "shell.execute_reply": "2021-05-21T15:34:10.185289Z",
          "shell.execute_reply.started": "2021-05-21T15:14:44.876553Z"
        },
        "papermill": {
          "duration": 534.362111,
          "end_time": "2021-05-21T15:34:10.186041",
          "exception": false,
          "start_time": "2021-05-21T15:25:15.823930",
          "status": "completed"
        },
        "tags": [],
        "id": "welsh-brake",
        "outputId": "99339cf6-3130-4b71-c706-a9e2403cf496"
      },
      "outputs": [
        {
          "name": "stdout",
          "output_type": "stream",
          "text": [
            "Epoch 1/30\n",
            "51/51 [==============================] - 34s 431ms/step - loss: 1.6117 - accuracy: 0.3543 - val_loss: 1.3177 - val_accuracy: 0.4926\n",
            "Epoch 2/30\n",
            "51/51 [==============================] - 17s 342ms/step - loss: 1.2405 - accuracy: 0.5405 - val_loss: 1.1830 - val_accuracy: 0.5718\n",
            "Epoch 3/30\n",
            "51/51 [==============================] - 17s 336ms/step - loss: 1.1750 - accuracy: 0.5588 - val_loss: 1.1271 - val_accuracy: 0.5842\n",
            "Epoch 4/30\n",
            "51/51 [==============================] - 17s 337ms/step - loss: 1.0724 - accuracy: 0.6099 - val_loss: 1.1047 - val_accuracy: 0.5743\n",
            "Epoch 5/30\n",
            "51/51 [==============================] - 17s 335ms/step - loss: 1.0301 - accuracy: 0.6193 - val_loss: 1.0618 - val_accuracy: 0.6188\n",
            "Epoch 6/30\n",
            "51/51 [==============================] - 17s 340ms/step - loss: 1.0209 - accuracy: 0.6268 - val_loss: 1.0670 - val_accuracy: 0.5990\n",
            "Epoch 7/30\n",
            "51/51 [==============================] - 17s 336ms/step - loss: 0.9763 - accuracy: 0.6461 - val_loss: 1.0746 - val_accuracy: 0.5817\n",
            "Epoch 8/30\n",
            "51/51 [==============================] - 17s 343ms/step - loss: 0.9458 - accuracy: 0.6566 - val_loss: 1.0039 - val_accuracy: 0.6287\n",
            "Epoch 9/30\n",
            "51/51 [==============================] - 17s 334ms/step - loss: 0.8847 - accuracy: 0.6738 - val_loss: 0.9977 - val_accuracy: 0.6312\n",
            "Epoch 10/30\n",
            "51/51 [==============================] - 18s 349ms/step - loss: 0.9366 - accuracy: 0.6417 - val_loss: 0.9822 - val_accuracy: 0.6436\n",
            "Epoch 11/30\n",
            "51/51 [==============================] - 17s 341ms/step - loss: 0.9351 - accuracy: 0.6519 - val_loss: 1.0030 - val_accuracy: 0.6188\n",
            "Epoch 12/30\n",
            "51/51 [==============================] - 17s 337ms/step - loss: 0.9067 - accuracy: 0.6732 - val_loss: 0.9606 - val_accuracy: 0.6312\n",
            "Epoch 13/30\n",
            "51/51 [==============================] - 17s 340ms/step - loss: 0.8710 - accuracy: 0.6739 - val_loss: 0.9751 - val_accuracy: 0.6436\n",
            "Epoch 14/30\n",
            "51/51 [==============================] - 17s 338ms/step - loss: 0.8551 - accuracy: 0.6973 - val_loss: 0.9568 - val_accuracy: 0.6510\n",
            "Epoch 15/30\n",
            "51/51 [==============================] - 17s 337ms/step - loss: 0.8478 - accuracy: 0.6905 - val_loss: 0.9593 - val_accuracy: 0.6683\n",
            "Epoch 16/30\n",
            "51/51 [==============================] - 17s 337ms/step - loss: 0.8889 - accuracy: 0.6820 - val_loss: 0.9566 - val_accuracy: 0.6708\n",
            "Epoch 17/30\n",
            "51/51 [==============================] - 18s 345ms/step - loss: 0.8174 - accuracy: 0.7037 - val_loss: 0.9347 - val_accuracy: 0.6485\n",
            "Epoch 18/30\n",
            "51/51 [==============================] - 17s 337ms/step - loss: 0.7941 - accuracy: 0.7072 - val_loss: 0.8947 - val_accuracy: 0.6856\n",
            "Epoch 19/30\n",
            "51/51 [==============================] - 17s 343ms/step - loss: 0.7964 - accuracy: 0.6919 - val_loss: 0.9012 - val_accuracy: 0.6832\n",
            "Epoch 20/30\n",
            "51/51 [==============================] - 17s 331ms/step - loss: 0.7777 - accuracy: 0.7294 - val_loss: 0.9024 - val_accuracy: 0.6584\n",
            "Epoch 21/30\n",
            "51/51 [==============================] - 17s 341ms/step - loss: 0.8395 - accuracy: 0.6743 - val_loss: 0.9032 - val_accuracy: 0.6708\n",
            "Epoch 22/30\n",
            "51/51 [==============================] - 17s 331ms/step - loss: 0.7755 - accuracy: 0.7137 - val_loss: 0.9165 - val_accuracy: 0.6510\n",
            "Epoch 23/30\n",
            "51/51 [==============================] - 17s 337ms/step - loss: 0.7759 - accuracy: 0.7080 - val_loss: 0.9061 - val_accuracy: 0.6634\n",
            "Epoch 24/30\n",
            "51/51 [==============================] - 17s 337ms/step - loss: 0.7443 - accuracy: 0.7125 - val_loss: 0.9057 - val_accuracy: 0.6510\n",
            "Epoch 25/30\n",
            "51/51 [==============================] - 17s 339ms/step - loss: 0.7575 - accuracy: 0.7122 - val_loss: 0.9308 - val_accuracy: 0.6559\n",
            "Epoch 26/30\n",
            "51/51 [==============================] - 17s 331ms/step - loss: 0.7804 - accuracy: 0.7017 - val_loss: 0.8820 - val_accuracy: 0.6782\n",
            "Epoch 27/30\n",
            "51/51 [==============================] - 17s 339ms/step - loss: 0.7549 - accuracy: 0.7251 - val_loss: 0.8884 - val_accuracy: 0.6708\n",
            "Epoch 28/30\n",
            "51/51 [==============================] - 17s 334ms/step - loss: 0.7356 - accuracy: 0.7319 - val_loss: 0.8723 - val_accuracy: 0.6708\n",
            "Epoch 29/30\n",
            "51/51 [==============================] - 17s 334ms/step - loss: 0.7265 - accuracy: 0.7324 - val_loss: 0.8946 - val_accuracy: 0.6708\n",
            "Epoch 30/30\n",
            "51/51 [==============================] - 17s 335ms/step - loss: 0.7396 - accuracy: 0.7226 - val_loss: 0.8538 - val_accuracy: 0.6807\n"
          ]
        }
      ],
      "source": [
        "his=model.fit(datagen.flow(trainx,trainy,batch_size=32),validation_data=(testx,testy),epochs=30)"
      ]
    },
    {
      "cell_type": "code",
      "execution_count": null,
      "id": "secret-hollywood",
      "metadata": {
        "execution": {
          "iopub.execute_input": "2021-05-21T15:34:11.216749Z",
          "iopub.status.busy": "2021-05-21T15:34:11.216049Z",
          "iopub.status.idle": "2021-05-21T15:34:17.967044Z",
          "shell.execute_reply": "2021-05-21T15:34:17.967508Z",
          "shell.execute_reply.started": "2021-05-21T15:23:37.785821Z"
        },
        "papermill": {
          "duration": 7.276531,
          "end_time": "2021-05-21T15:34:17.967733",
          "exception": false,
          "start_time": "2021-05-21T15:34:10.691202",
          "status": "completed"
        },
        "tags": [],
        "id": "secret-hollywood",
        "outputId": "86279b15-088d-42b6-eabb-737388c37466"
      },
      "outputs": [
        {
          "name": "stdout",
          "output_type": "stream",
          "text": [
            "              precision    recall  f1-score   support\n",
            "\n",
            "           0       0.62      0.70      0.66        66\n",
            "           1       0.70      0.52      0.60        84\n",
            "           2       0.73      0.80      0.76        91\n",
            "           3       0.33      0.30      0.32        20\n",
            "           4       0.85      0.75      0.80        73\n",
            "           5       0.61      0.73      0.66        70\n",
            "\n",
            "    accuracy                           0.68       404\n",
            "   macro avg       0.64      0.63      0.63       404\n",
            "weighted avg       0.69      0.68      0.68       404\n",
            "\n"
          ]
        }
      ],
      "source": [
        "y_pred=model.predict(testx)\n",
        "pred=np.argmax(y_pred,axis=1)\n",
        "ground = np.argmax(testy,axis=1)\n",
        "print(classification_report(ground,pred))"
      ]
    },
    {
      "cell_type": "code",
      "execution_count": null,
      "id": "basic-library",
      "metadata": {
        "execution": {
          "iopub.execute_input": "2021-05-21T15:34:19.028810Z",
          "iopub.status.busy": "2021-05-21T15:34:19.027720Z",
          "iopub.status.idle": "2021-05-21T15:34:19.186737Z",
          "shell.execute_reply": "2021-05-21T15:34:19.187243Z",
          "shell.execute_reply.started": "2021-05-21T15:23:44.712097Z"
        },
        "papermill": {
          "duration": 0.716241,
          "end_time": "2021-05-21T15:34:19.187418",
          "exception": false,
          "start_time": "2021-05-21T15:34:18.471177",
          "status": "completed"
        },
        "tags": [],
        "id": "basic-library",
        "outputId": "37cc0b13-58e9-4e09-b897-a054e3120475"
      },
      "outputs": [
        {
          "data": {
            "image/png": "[encoded data removed]",
            "text/plain": [
              "<Figure size 432x288 with 1 Axes>"
            ]
          },
          "metadata": {
            "needs_background": "light"
          },
          "output_type": "display_data"
        },
        {
          "data": {
            "text/plain": [
              "<Figure size 432x288 with 0 Axes>"
            ]
          },
          "metadata": {},
          "output_type": "display_data"
        }
      ],
      "source": [
        "get_acc = his.history['accuracy']\n",
        "value_acc = his.history['val_accuracy']\n",
        "get_loss = his.history['loss']\n",
        "validation_loss = his.history['val_loss']\n",
        "\n",
        "epochs = range(len(get_acc))\n",
        "plt.plot(epochs, get_acc, 'r', label='Accuracy of Training data')\n",
        "plt.plot(epochs, value_acc, 'b', label='Accuracy of Validation data')\n",
        "plt.title('Training vs validation accuracy')\n",
        "plt.legend(loc=0)\n",
        "plt.figure()\n",
        "plt.show()"
      ]
    },
    {
      "cell_type": "code",
      "execution_count": null,
      "id": "electoral-privacy",
      "metadata": {
        "execution": {
          "iopub.execute_input": "2021-05-21T15:34:20.277620Z",
          "iopub.status.busy": "2021-05-21T15:34:20.276552Z",
          "iopub.status.idle": "2021-05-21T15:34:20.449856Z",
          "shell.execute_reply": "2021-05-21T15:34:20.450312Z",
          "shell.execute_reply.started": "2021-05-21T15:23:44.931317Z"
        },
        "papermill": {
          "duration": 0.760146,
          "end_time": "2021-05-21T15:34:20.450507",
          "exception": false,
          "start_time": "2021-05-21T15:34:19.690361",
          "status": "completed"
        },
        "tags": [],
        "id": "electoral-privacy",
        "outputId": "e08df0c9-c9f3-4954-928f-5ad83b00b460"
      },
      "outputs": [
        {
          "data": {
            "image/png": "[encoded data removed]",
            "text/plain": [
              "<Figure size 432x288 with 1 Axes>"
            ]
          },
          "metadata": {
            "needs_background": "light"
          },
          "output_type": "display_data"
        },
        {
          "data": {
            "text/plain": [
              "<Figure size 432x288 with 0 Axes>"
            ]
          },
          "metadata": {},
          "output_type": "display_data"
        }
      ],
      "source": [
        "epochs = range(len(get_loss))\n",
        "plt.plot(epochs, get_loss, 'r', label='Loss of Training data')\n",
        "plt.plot(epochs, validation_loss, 'b', label='Loss of Validation data')\n",
        "plt.title('Training vs validation loss')\n",
        "plt.legend(loc=0)\n",
        "plt.figure()\n",
        "plt.show()"
      ]
    },
    {
      "cell_type": "code",
      "execution_count": null,
      "id": "proud-bruce",
      "metadata": {
        "execution": {
          "iopub.execute_input": "2021-05-21T15:34:21.470812Z",
          "iopub.status.busy": "2021-05-21T15:34:21.469816Z",
          "iopub.status.idle": "2021-05-21T15:34:21.492143Z",
          "shell.execute_reply": "2021-05-21T15:34:21.492620Z",
          "shell.execute_reply.started": "2021-05-21T15:23:45.139725Z"
        },
        "papermill": {
          "duration": 0.534179,
          "end_time": "2021-05-21T15:34:21.492806",
          "exception": false,
          "start_time": "2021-05-21T15:34:20.958627",
          "status": "completed"
        },
        "tags": [],
        "id": "proud-bruce",
        "outputId": "020e19d3-7298-4541-aad6-f2359b317ea8"
      },
      "outputs": [
        {
          "data": {
            "image/png": "[encoded data removed]",
            "text/plain": [
              "<PIL.Image.Image image mode=RGB size=150x150 at 0x7F48F07FFB90>"
            ]
          },
          "execution_count": 20,
          "metadata": {},
          "output_type": "execute_result"
        }
      ],
      "source": [
        "load_img(\"../input/garbage-classification/Garbage classification/Garbage classification/trash/trash122.jpg\",target_size=(150,150))"
      ]
    },
    {
      "cell_type": "code",
      "execution_count": null,
      "id": "educated-closer",
      "metadata": {
        "execution": {
          "iopub.execute_input": "2021-05-21T15:34:22.527066Z",
          "iopub.status.busy": "2021-05-21T15:34:22.526131Z",
          "iopub.status.idle": "2021-05-21T15:34:22.533344Z",
          "shell.execute_reply": "2021-05-21T15:34:22.532787Z",
          "shell.execute_reply.started": "2021-05-21T15:23:45.166112Z"
        },
        "papermill": {
          "duration": 0.530658,
          "end_time": "2021-05-21T15:34:22.533510",
          "exception": false,
          "start_time": "2021-05-21T15:34:22.002852",
          "status": "completed"
        },
        "tags": [],
        "id": "educated-closer"
      },
      "outputs": [],
      "source": [
        "image=load_img(\"../input/garbage-classification/Garbage classification/Garbage classification/trash/trash122.jpg\",target_size=(60,60))\n",
        "\n",
        "image=img_to_array(image)\n",
        "image=image/255.0\n",
        "prediction_image=np.array(image)\n",
        "prediction_image= np.expand_dims(image, axis=0)"
      ]
    },
    {
      "cell_type": "code",
      "execution_count": null,
      "id": "corporate-tattoo",
      "metadata": {
        "execution": {
          "iopub.execute_input": "2021-05-21T15:34:23.560184Z",
          "iopub.status.busy": "2021-05-21T15:34:23.559505Z",
          "iopub.status.idle": "2021-05-21T15:34:23.641385Z",
          "shell.execute_reply": "2021-05-21T15:34:23.640797Z",
          "shell.execute_reply.started": "2021-05-21T15:23:45.182611Z"
        },
        "papermill": {
          "duration": 0.595104,
          "end_time": "2021-05-21T15:34:23.641535",
          "exception": false,
          "start_time": "2021-05-21T15:34:23.046431",
          "status": "completed"
        },
        "tags": [],
        "id": "corporate-tattoo",
        "outputId": "07d04c62-c5b3-47dd-a550-095e2cb11e63"
      },
      "outputs": [
        {
          "name": "stdout",
          "output_type": "stream",
          "text": [
            "Prediction is trash.\n"
          ]
        }
      ],
      "source": [
        "prediction=model.predict(prediction_image)\n",
        "value=np.argmax(prediction)\n",
        "move_name=mapper(value)\n",
        "print(\"Prediction is {}.\".format(move_name))"
      ]
    },
    {
      "cell_type": "code",
      "execution_count": null,
      "id": "marine-savage",
      "metadata": {
        "execution": {
          "iopub.execute_input": "2021-05-21T15:34:24.678486Z",
          "iopub.status.busy": "2021-05-21T15:34:24.660229Z",
          "iopub.status.idle": "2021-05-21T15:34:28.821706Z",
          "shell.execute_reply": "2021-05-21T15:34:28.822352Z",
          "shell.execute_reply.started": "2021-05-21T15:23:45.272931Z"
        },
        "papermill": {
          "duration": 4.670931,
          "end_time": "2021-05-21T15:34:28.822575",
          "exception": false,
          "start_time": "2021-05-21T15:34:24.151644",
          "status": "completed"
        },
        "tags": [],
        "id": "marine-savage",
        "outputId": "3539d465-d714-449f-b317-85382834d76c"
      },
      "outputs": [
        {
          "name": "stdout",
          "output_type": "stream",
          "text": [
            "(511, 60, 60, 3)\n",
            "(511, 6)\n"
          ]
        }
      ],
      "source": [
        "print(test.shape)\n",
        "pred2=model.predict(test)\n",
        "print(pred2.shape)\n",
        "\n",
        "PRED=[]\n",
        "for item in pred2:\n",
        "    value2=np.argmax(item)\n",
        "    PRED+=[value2]"
      ]
    },
    {
      "cell_type": "code",
      "execution_count": null,
      "id": "operational-extent",
      "metadata": {
        "execution": {
          "iopub.execute_input": "2021-05-21T15:34:29.844508Z",
          "iopub.status.busy": "2021-05-21T15:34:29.843505Z",
          "iopub.status.idle": "2021-05-21T15:34:29.846987Z",
          "shell.execute_reply": "2021-05-21T15:34:29.846446Z",
          "shell.execute_reply.started": "2021-05-21T15:23:49.361525Z"
        },
        "papermill": {
          "duration": 0.51859,
          "end_time": "2021-05-21T15:34:29.847155",
          "exception": false,
          "start_time": "2021-05-21T15:34:29.328565",
          "status": "completed"
        },
        "tags": [],
        "id": "operational-extent"
      },
      "outputs": [],
      "source": [
        "ANS=testlabel"
      ]
    },
    {
      "cell_type": "code",
      "execution_count": null,
      "id": "coordinate-collapse",
      "metadata": {
        "execution": {
          "iopub.execute_input": "2021-05-21T15:34:30.908697Z",
          "iopub.status.busy": "2021-05-21T15:34:30.907641Z",
          "iopub.status.idle": "2021-05-21T15:34:30.913377Z",
          "shell.execute_reply": "2021-05-21T15:34:30.914339Z",
          "shell.execute_reply.started": "2021-05-21T15:23:49.368858Z"
        },
        "papermill": {
          "duration": 0.55249,
          "end_time": "2021-05-21T15:34:30.914657",
          "exception": false,
          "start_time": "2021-05-21T15:34:30.362167",
          "status": "completed"
        },
        "tags": [],
        "id": "coordinate-collapse",
        "outputId": "0b329133-ed81-46fd-a8d8-1052c28ab3c3"
      },
      "outputs": [
        {
          "name": "stdout",
          "output_type": "stream",
          "text": [
            "0.7045009784735812\n"
          ]
        }
      ],
      "source": [
        "accuracy=accuracy_score(ANS,PRED)\n",
        "print(accuracy)"
      ]
    },
    {
      "cell_type": "code",
      "execution_count": null,
      "id": "attached-reggae",
      "metadata": {
        "papermill": {
          "duration": 0.511451,
          "end_time": "2021-05-21T15:34:31.952055",
          "exception": false,
          "start_time": "2021-05-21T15:34:31.440604",
          "status": "completed"
        },
        "tags": [],
        "id": "attached-reggae"
      },
      "outputs": [],
      "source": []
    }
  ],
  "metadata": {
    "kernelspec": {
      "display_name": "Python 3",
      "language": "python",
      "name": "python3"
    },
    "language_info": {
      "codemirror_mode": {
        "name": "ipython",
        "version": 3
      },
      "file_extension": ".py",
      "mimetype": "text/x-python",
      "name": "python",
      "nbconvert_exporter": "python",
      "pygments_lexer": "ipython3",
      "version": "3.7.9"
    },
    "papermill": {
      "default_parameters": {},
      "duration": 612.058392,
      "end_time": "2021-05-21T15:34:34.876360",
      "environment_variables": {},
      "exception": null,
      "input_path": "__notebook__.ipynb",
      "output_path": "__notebook__.ipynb",
      "parameters": {},
      "start_time": "2021-05-21T15:24:22.817968",
      "version": "2.3.2"
    },
    "colab": {
      "provenance": []
    }
  },
  "nbformat": 4,
  "nbformat_minor": 5
}